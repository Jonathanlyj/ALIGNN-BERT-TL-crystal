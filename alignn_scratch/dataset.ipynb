{
 "cells": [
  {
   "cell_type": "code",
   "execution_count": 1,
   "metadata": {},
   "outputs": [],
   "source": [
    "from jarvis.core.atoms import Atoms\n",
    "from jarvis.io.vasp.inputs import Poscar\n",
    "from jarvis.db.figshare import data\n",
    "import os\n",
    "import pandas as pd\n",
    "import json\n"
   ]
  },
  {
   "cell_type": "code",
   "execution_count": null,
   "metadata": {},
   "outputs": [],
   "source": [
    "#Structure file generator for running ALIGNN scratch model\n",
    "# struc_path = \"/path/to/alignn/root_dir\"\n",
    "struc_path = \"./\"\n",
    "dft_3d = data(dataset='dft_3d')\n",
    "jids_file = []\n",
    "jids = []\n",
    "for i in dft_3d:\n",
    "    atoms = Atoms.from_dict(i['atoms'])\n",
    "    poscar = Poscar(atoms)\n",
    "    jid = i['jid']\n",
    "    jids.append(jid)\n",
    "    jids_file.append(jid+'.vasp')\n",
    "    filename1 = os.path.join(struc_path, 'POSCAR-'+jid+'.vasp')\n",
    "    filename2 = os.path.join(struc_path, jid+'.vasp')\n",
    "    if (not os.path.exists(filename1)) and (not os.path.exists(filename2)):\n",
    "        poscar.write_file(filename2)\n",
    "data = {'jid_file': jids_file, 'jid': jids}\n",
    "df = pd.DataFrame(data)\n",
    "csv_path = os.path.join(struc_path, \"id_prop_full.csv\")\n",
    "df.to_csv(csv_path, header=False, index=False)\n",
    "#save id_prop csv\n",
    "\n"
   ]
  },
  {
   "cell_type": "code",
   "execution_count": 3,
   "metadata": {},
   "outputs": [
    {
     "name": "stdout",
     "output_type": "stream",
     "text": [
      "Obtaining 3D dataset 76k ...\n",
      "Reference:https://www.nature.com/articles/s41524-020-00440-1\n",
      "Other versions:https://doi.org/10.6084/m9.figshare.6815699\n",
      "Loading the zipfile...\n",
      "Loading completed.\n",
      "mbj_bandgap\n",
      "15642\n",
      "1957\n",
      "1957\n"
     ]
    }
   ],
   "source": [
    "#id prop csv (for running ALIGNN) based on the data split\n",
    "# props =  [\"slme\", \"spillage\", \"magmom_outcar\", \"mbj_bandgap\", \"Tc_supercon\"]\n",
    "split_json_dir = \"../data/split/\"\n",
    "# struc_path = \"/path/to/alignn/root_dir\"\n",
    "struc_path = \"./\"\n",
    "dft_3d = data(dataset='dft_3d')\n",
    "\n",
    "prop = \"mbj_bandgap\"\n",
    "# df_file = pd.read_csv(full_data_path, header=None, names = [\"file\", \"jid\"])\n",
    "split_json_path = os.path.join(split_json_dir, f\"dataset_split_{prop}.json\")\n",
    "prop_folder = struc_path\n",
    "os.makedirs(prop_folder , exist_ok=True)\n",
    "with open(split_json_path, 'r') as file:\n",
    "    # Load the JSON data into a dictionary\n",
    "    ids_dict = json.load(file)\n",
    "    print(prop)\n",
    "    ids_train = [id + '.vasp' for id in ids_dict['id_train']]\n",
    "    print(len(ids_train))\n",
    "    ids_val = [id + '.vasp' for id in ids_dict['id_val']]\n",
    "    print(len(ids_val))\n",
    "    ids_test = [id + '.vasp' for id in ids_dict['id_test']]\n",
    "    print(len(ids_test))\n",
    "jids_file = []\n",
    "values = []\n",
    "for i in dft_3d:\n",
    "    if i[prop]!='na':\n",
    "        atoms = Atoms.from_dict(i['atoms'])\n",
    "        poscar = Poscar(atoms)\n",
    "        jid = i['jid']\n",
    "        value = i[prop]\n",
    "        values.append(value)\n",
    "        jids_file.append(jid+'.vasp')\n",
    "\n",
    "data_id = {'jid_file': jids_file, 'prop': values}\n",
    "df = pd.DataFrame(data_id)\n",
    "df_train = df[df.jid_file.isin(ids_train)].copy()\n",
    "df_val = df[df.jid_file.isin(ids_val)].copy()\n",
    "df_test = df[df.jid_file.isin(ids_test)].copy()\n",
    "df_sorted = pd.concat([df_train, df_val, df_test])\n",
    "\n",
    "csv_path = os.path.join(prop_folder, \"id_prop.csv\")\n",
    "\n",
    "df_sorted.to_csv(csv_path, header=False, index=False)\n",
    "\n"
   ]
  }
 ],
 "metadata": {
  "kernelspec": {
   "display_name": "alignntl",
   "language": "python",
   "name": "python3"
  },
  "language_info": {
   "codemirror_mode": {
    "name": "ipython",
    "version": 3
   },
   "file_extension": ".py",
   "mimetype": "text/x-python",
   "name": "python",
   "nbconvert_exporter": "python",
   "pygments_lexer": "ipython3",
   "version": "3.9.19"
  }
 },
 "nbformat": 4,
 "nbformat_minor": 2
}
