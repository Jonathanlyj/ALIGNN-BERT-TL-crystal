{
 "cells": [
  {
   "cell_type": "code",
   "execution_count": 3,
   "metadata": {},
   "outputs": [
    {
     "name": "stdout",
     "output_type": "stream",
     "text": [
      "[0.5488135  0.71518937 0.60276338]\n"
     ]
    }
   ],
   "source": [
    "import numpy as np\n",
    "\n",
    "# Set the random seed\n",
    "np.random.seed(0)\n",
    "\n",
    "# Generate a small array of random numbers\n",
    "random_array = np.random.rand(3)\n",
    "\n",
    "# Output the array to verify the seed\n",
    "print(random_array)\n"
   ]
  },
  {
   "cell_type": "code",
   "execution_count": 12,
   "metadata": {},
   "outputs": [
    {
     "name": "stdout",
     "output_type": "stream",
     "text": [
      "Final weights: [array([[0.60892135]], dtype=float32), array([0.0396851], dtype=float32)]\n",
      "Final loss: 2.7865283489227295\n"
     ]
    }
   ],
   "source": [
    "import tensorflow as tf\n",
    "import numpy as np\n",
    "# SEED = 66478\n",
    "import os\n",
    "os.environ['CUDA_VISIBLE_DEVICES'] = '-1'\n",
    "\n",
    "\n",
    "# Set the random seed for reproducibility\n",
    "tf.random.set_seed(42)\n",
    "np.random.seed(42)\n",
    "\n",
    "# Create some dummy data\n",
    "X = np.random.rand(100, 1)\n",
    "y = 2 * X + 1 + np.random.normal(0, 0.1, size=(100, 1))\n",
    "\n",
    "# Define a simple Sequential model\n",
    "model = tf.keras.Sequential([\n",
    "    tf.keras.layers.Dense(1, input_shape=(1,))\n",
    "])\n",
    "\n",
    "# Compile the model\n",
    "model.compile(optimizer='adam', loss='mean_squared_error')\n",
    "\n",
    "# Train the model for 2 epochs\n",
    "history = model.fit(X, y, epochs=10, verbose=0)\n",
    "\n",
    "# Output model weights and final loss to verify seed effect\n",
    "print(\"Final weights:\", model.get_weights())\n",
    "print(\"Final loss:\", history.history['loss'][-1])"
   ]
  }
 ],
 "metadata": {
  "kernelspec": {
   "display_name": "atomgpt_pub",
   "language": "python",
   "name": "python3"
  },
  "language_info": {
   "codemirror_mode": {
    "name": "ipython",
    "version": 3
   },
   "file_extension": ".py",
   "mimetype": "text/x-python",
   "name": "python",
   "nbconvert_exporter": "python",
   "pygments_lexer": "ipython3",
   "version": "3.9.19"
  }
 },
 "nbformat": 4,
 "nbformat_minor": 2
}
